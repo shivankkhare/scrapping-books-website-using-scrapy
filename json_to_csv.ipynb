{
 "cells": [
  {
   "cell_type": "code",
   "execution_count": 18,
   "metadata": {},
   "outputs": [
    {
     "name": "stdout",
     "output_type": "stream",
     "text": [
      "image_url,book_title,product_price\n",
      "\n"
     ]
    }
   ],
   "source": [
    "import json\n",
    "with open('books.json','r') as file:\n",
    "    s = file.read()\n",
    "    d = json.loads(s)\n",
    "with open('xyz.csv','w') as file:\n",
    "    header_string = \",\".join(['image_url','book_title','product_price'])\n",
    "    header_string +='\\n'\n",
    "    print(header_string)\n",
    "    file.write(header_string)\n",
    "    for i in d:\n",
    "        a=i['image_url']\n",
    "        b=i['book_title']\n",
    "        \n",
    "        if '\"' in b:\n",
    "            b = \"'\"+b+\"'\"\n",
    "            #print(b)\n",
    "            #print(\"yes\")\n",
    "        elif ',' in b:\n",
    "            \n",
    "            b = '\"'+b+'\"'\n",
    "            #print(b)\n",
    "        \n",
    "        c=i['product_price']\n",
    "        file.write(a+','+b+','+c+'\\n')\n",
    "        #print(i['book_title'])"
   ]
  },
  {
   "cell_type": "code",
   "execution_count": null,
   "metadata": {},
   "outputs": [],
   "source": []
  }
 ],
 "metadata": {
  "kernelspec": {
   "display_name": "Python 3",
   "language": "python",
   "name": "python3"
  },
  "language_info": {
   "codemirror_mode": {
    "name": "ipython",
    "version": 3
   },
   "file_extension": ".py",
   "mimetype": "text/x-python",
   "name": "python",
   "nbconvert_exporter": "python",
   "pygments_lexer": "ipython3",
   "version": "3.7.6"
  }
 },
 "nbformat": 4,
 "nbformat_minor": 4
}
